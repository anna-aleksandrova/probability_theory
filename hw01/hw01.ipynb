{
 "cells": [
  {
   "cell_type": "code",
   "execution_count": 1,
   "id": "2cf6454a-02ae-49ea-b2ce-3e2c6afc6999",
   "metadata": {},
   "outputs": [],
   "source": [
    "from itertools import permutations, combinations, product"
   ]
  },
  {
   "cell_type": "code",
   "execution_count": 10,
   "id": "48b37f5b-538a-4661-b27f-a9b1c2f2dca9",
   "metadata": {},
   "outputs": [],
   "source": [
    "# task 1\n",
    "def stable(s, p):\n",
    "    for i in range(len(s)):\n",
    "        if s[i] == p[i]:\n",
    "            return True\n",
    "    return False\n",
    "\n",
    "def derangement(s):\n",
    "    res = []\n",
    "    for p in permutations(s):\n",
    "        if (not stable(s, p)) and (p not in res):\n",
    "            res.append(p)\n",
    "    return res"
   ]
  },
  {
   "cell_type": "code",
   "execution_count": 7,
   "id": "89ec43b2-aaee-492d-9d31-a7820a4fa5d9",
   "metadata": {},
   "outputs": [
    {
     "name": "stdout",
     "output_type": "stream",
     "text": [
      "Derangements on [3]: [(2, 3, 1), (3, 1, 2)], amount: 2\n",
      "Derangements on [4]: [(2, 1, 4, 3), (2, 3, 4, 1), (2, 4, 1, 3), (3, 1, 4, 2), (3, 4, 1, 2), (3, 4, 2, 1), (4, 1, 2, 3), (4, 3, 1, 2), (4, 3, 2, 1)], amount: 9\n",
      "Derangements on (1, 3, 5, 7): [(3, 1, 7, 5), (3, 5, 7, 1), (3, 7, 1, 5), (5, 1, 7, 3), (5, 7, 1, 3), (5, 7, 3, 1), (7, 1, 3, 5), (7, 5, 1, 3), (7, 5, 3, 1)], amount: 9\n",
      "Derangements on (1, 2, 2, 1): [(2, 1, 1, 2)], amount: 1\n"
     ]
    }
   ],
   "source": [
    "# [n] := {1, 2, ..., n}, n >= 1\n",
    "res1 = derangement([1, 2, 3])\n",
    "print(f\"Derangements on [3]: {res1}, amount: {len(res1)}\")\n",
    "res2 = derangement([1, 2, 3, 4])\n",
    "print(f\"Derangements on [4]: {res2}, amount: {len(res2)}\")\n",
    "res3 = derangement([1, 3, 5, 7])\n",
    "print(f\"Derangements on {1, 3, 5, 7}: {res3}, amount: {len(res3)}\")\n",
    "res4 = derangement([1, 2, 2, 1])\n",
    "print(f\"Derangements on {1, 2, 2, 1}: {res4}, amount: {len(res4)}\")"
   ]
  },
  {
   "cell_type": "code",
   "execution_count": 11,
   "id": "f688eee0-856f-4790-a988-ac7f93a7a831",
   "metadata": {},
   "outputs": [],
   "source": [
    "# task 2\n",
    "def condition(p):\n",
    "    \"\"\"Checks whethes permutation <p> satisfies the following condition:\n",
    "       p[0] < p[1] < p[2] < p[3] > p[4] > ... > p[len(p)-1]\n",
    "    \"\"\"\n",
    "    if len(p) <= 4:\n",
    "        return False\n",
    "    else:\n",
    "        if not(p[0] < p[1] < p[2] < p[3]): \n",
    "            return False\n",
    "        for i in range(3, len(p) - 1):\n",
    "            if p[i] <= p[i+1]:\n",
    "                return False\n",
    "    return True\n",
    "\n",
    "def condition_permutes(s):\n",
    "    res = []\n",
    "    for el in permutations(s):\n",
    "        if condition(el):\n",
    "            res.append(el)\n",
    "    return res"
   ]
  },
  {
   "cell_type": "code",
   "execution_count": 12,
   "id": "7cd798b0-e85b-4b33-b5f3-0810697ce018",
   "metadata": {},
   "outputs": [
    {
     "name": "stdout",
     "output_type": "stream",
     "text": [
      "All permutations on [8] that satisfy the condition: [(1, 2, 3, 8, 7, 6, 5, 4), (1, 2, 4, 8, 7, 6, 5, 3), (1, 2, 5, 8, 7, 6, 4, 3), (1, 2, 6, 8, 7, 5, 4, 3), (1, 2, 7, 8, 6, 5, 4, 3), (1, 3, 4, 8, 7, 6, 5, 2), (1, 3, 5, 8, 7, 6, 4, 2), (1, 3, 6, 8, 7, 5, 4, 2), (1, 3, 7, 8, 6, 5, 4, 2), (1, 4, 5, 8, 7, 6, 3, 2), (1, 4, 6, 8, 7, 5, 3, 2), (1, 4, 7, 8, 6, 5, 3, 2), (1, 5, 6, 8, 7, 4, 3, 2), (1, 5, 7, 8, 6, 4, 3, 2), (1, 6, 7, 8, 5, 4, 3, 2), (2, 3, 4, 8, 7, 6, 5, 1), (2, 3, 5, 8, 7, 6, 4, 1), (2, 3, 6, 8, 7, 5, 4, 1), (2, 3, 7, 8, 6, 5, 4, 1), (2, 4, 5, 8, 7, 6, 3, 1), (2, 4, 6, 8, 7, 5, 3, 1), (2, 4, 7, 8, 6, 5, 3, 1), (2, 5, 6, 8, 7, 4, 3, 1), (2, 5, 7, 8, 6, 4, 3, 1), (2, 6, 7, 8, 5, 4, 3, 1), (3, 4, 5, 8, 7, 6, 2, 1), (3, 4, 6, 8, 7, 5, 2, 1), (3, 4, 7, 8, 6, 5, 2, 1), (3, 5, 6, 8, 7, 4, 2, 1), (3, 5, 7, 8, 6, 4, 2, 1), (3, 6, 7, 8, 5, 4, 2, 1), (4, 5, 6, 8, 7, 3, 2, 1), (4, 5, 7, 8, 6, 3, 2, 1), (4, 6, 7, 8, 5, 3, 2, 1), (5, 6, 7, 8, 4, 3, 2, 1)], amount = 35\n",
      "------------------------------------------------------------\n",
      "All permutations on [10] that satisfy the condition: [(1, 2, 3, 10, 9, 8, 7, 6, 5, 4), (1, 2, 4, 10, 9, 8, 7, 6, 5, 3), (1, 2, 5, 10, 9, 8, 7, 6, 4, 3), (1, 2, 6, 10, 9, 8, 7, 5, 4, 3), (1, 2, 7, 10, 9, 8, 6, 5, 4, 3), (1, 2, 8, 10, 9, 7, 6, 5, 4, 3), (1, 2, 9, 10, 8, 7, 6, 5, 4, 3), (1, 3, 4, 10, 9, 8, 7, 6, 5, 2), (1, 3, 5, 10, 9, 8, 7, 6, 4, 2), (1, 3, 6, 10, 9, 8, 7, 5, 4, 2), (1, 3, 7, 10, 9, 8, 6, 5, 4, 2), (1, 3, 8, 10, 9, 7, 6, 5, 4, 2), (1, 3, 9, 10, 8, 7, 6, 5, 4, 2), (1, 4, 5, 10, 9, 8, 7, 6, 3, 2), (1, 4, 6, 10, 9, 8, 7, 5, 3, 2), (1, 4, 7, 10, 9, 8, 6, 5, 3, 2), (1, 4, 8, 10, 9, 7, 6, 5, 3, 2), (1, 4, 9, 10, 8, 7, 6, 5, 3, 2), (1, 5, 6, 10, 9, 8, 7, 4, 3, 2), (1, 5, 7, 10, 9, 8, 6, 4, 3, 2), (1, 5, 8, 10, 9, 7, 6, 4, 3, 2), (1, 5, 9, 10, 8, 7, 6, 4, 3, 2), (1, 6, 7, 10, 9, 8, 5, 4, 3, 2), (1, 6, 8, 10, 9, 7, 5, 4, 3, 2), (1, 6, 9, 10, 8, 7, 5, 4, 3, 2), (1, 7, 8, 10, 9, 6, 5, 4, 3, 2), (1, 7, 9, 10, 8, 6, 5, 4, 3, 2), (1, 8, 9, 10, 7, 6, 5, 4, 3, 2), (2, 3, 4, 10, 9, 8, 7, 6, 5, 1), (2, 3, 5, 10, 9, 8, 7, 6, 4, 1), (2, 3, 6, 10, 9, 8, 7, 5, 4, 1), (2, 3, 7, 10, 9, 8, 6, 5, 4, 1), (2, 3, 8, 10, 9, 7, 6, 5, 4, 1), (2, 3, 9, 10, 8, 7, 6, 5, 4, 1), (2, 4, 5, 10, 9, 8, 7, 6, 3, 1), (2, 4, 6, 10, 9, 8, 7, 5, 3, 1), (2, 4, 7, 10, 9, 8, 6, 5, 3, 1), (2, 4, 8, 10, 9, 7, 6, 5, 3, 1), (2, 4, 9, 10, 8, 7, 6, 5, 3, 1), (2, 5, 6, 10, 9, 8, 7, 4, 3, 1), (2, 5, 7, 10, 9, 8, 6, 4, 3, 1), (2, 5, 8, 10, 9, 7, 6, 4, 3, 1), (2, 5, 9, 10, 8, 7, 6, 4, 3, 1), (2, 6, 7, 10, 9, 8, 5, 4, 3, 1), (2, 6, 8, 10, 9, 7, 5, 4, 3, 1), (2, 6, 9, 10, 8, 7, 5, 4, 3, 1), (2, 7, 8, 10, 9, 6, 5, 4, 3, 1), (2, 7, 9, 10, 8, 6, 5, 4, 3, 1), (2, 8, 9, 10, 7, 6, 5, 4, 3, 1), (3, 4, 5, 10, 9, 8, 7, 6, 2, 1), (3, 4, 6, 10, 9, 8, 7, 5, 2, 1), (3, 4, 7, 10, 9, 8, 6, 5, 2, 1), (3, 4, 8, 10, 9, 7, 6, 5, 2, 1), (3, 4, 9, 10, 8, 7, 6, 5, 2, 1), (3, 5, 6, 10, 9, 8, 7, 4, 2, 1), (3, 5, 7, 10, 9, 8, 6, 4, 2, 1), (3, 5, 8, 10, 9, 7, 6, 4, 2, 1), (3, 5, 9, 10, 8, 7, 6, 4, 2, 1), (3, 6, 7, 10, 9, 8, 5, 4, 2, 1), (3, 6, 8, 10, 9, 7, 5, 4, 2, 1), (3, 6, 9, 10, 8, 7, 5, 4, 2, 1), (3, 7, 8, 10, 9, 6, 5, 4, 2, 1), (3, 7, 9, 10, 8, 6, 5, 4, 2, 1), (3, 8, 9, 10, 7, 6, 5, 4, 2, 1), (4, 5, 6, 10, 9, 8, 7, 3, 2, 1), (4, 5, 7, 10, 9, 8, 6, 3, 2, 1), (4, 5, 8, 10, 9, 7, 6, 3, 2, 1), (4, 5, 9, 10, 8, 7, 6, 3, 2, 1), (4, 6, 7, 10, 9, 8, 5, 3, 2, 1), (4, 6, 8, 10, 9, 7, 5, 3, 2, 1), (4, 6, 9, 10, 8, 7, 5, 3, 2, 1), (4, 7, 8, 10, 9, 6, 5, 3, 2, 1), (4, 7, 9, 10, 8, 6, 5, 3, 2, 1), (4, 8, 9, 10, 7, 6, 5, 3, 2, 1), (5, 6, 7, 10, 9, 8, 4, 3, 2, 1), (5, 6, 8, 10, 9, 7, 4, 3, 2, 1), (5, 6, 9, 10, 8, 7, 4, 3, 2, 1), (5, 7, 8, 10, 9, 6, 4, 3, 2, 1), (5, 7, 9, 10, 8, 6, 4, 3, 2, 1), (5, 8, 9, 10, 7, 6, 4, 3, 2, 1), (6, 7, 8, 10, 9, 5, 4, 3, 2, 1), (6, 7, 9, 10, 8, 5, 4, 3, 2, 1), (6, 8, 9, 10, 7, 5, 4, 3, 2, 1), (7, 8, 9, 10, 6, 5, 4, 3, 2, 1)], amount = 84\n"
     ]
    }
   ],
   "source": [
    "res1 = condition_permutes([1, 2, 3, 4, 5, 6, 7, 8])\n",
    "print(f\"All permutations on [8] that satisfy the condition: {res1}, amount = {len(res1)}\")\n",
    "print(\"------------------------------------------------------------\")\n",
    "res2 = condition_permutes([1, 2, 3, 4, 5, 6, 7, 8, 9, 10])\n",
    "print(f\"All permutations on [10] that satisfy the condition: {res2}, amount = {len(res2)}\")"
   ]
  },
  {
   "cell_type": "code",
   "execution_count": 31,
   "id": "17d4a586-a3fd-4ea1-ad47-cc21ceb18e7c",
   "metadata": {},
   "outputs": [],
   "source": [
    "# task 3\n",
    "def amount(A):\n",
    "    choose_2 = set(combinations(A, 2))\n",
    "    B = set()\n",
    "    for pair in choose_2:\n",
    "        B.add(pair[0] + pair[1])\n",
    "    return len(B)        "
   ]
  },
  {
   "cell_type": "code",
   "execution_count": 35,
   "id": "854acccf-109c-49be-b3c5-1a3f3602b482",
   "metadata": {},
   "outputs": [
    {
     "name": "stdout",
     "output_type": "stream",
     "text": [
      "The cardinality of B(A1): 1\n",
      "The cardinality of B(A2): 3\n",
      "The cardinality of B(A3): 2\n",
      "The cardinality of B(A4): 27\n"
     ]
    }
   ],
   "source": [
    "A1 = [1, 1, 1, 1, 1, 1, 1, 1, 1, 1]\n",
    "print(f\"The cardinality of B(A1): {amount(A1)}\")\n",
    "A2 = [1, 2, 1, 2, 1, 2, 1, 2, 1, 2]\n",
    "print(f\"The cardinality of B(A2): {amount(A2)}\")\n",
    "A3 = [1, 1, 1, 1, 1, 1, 1, 1, 1, 2]\n",
    "print(f\"The cardinality of B(A3): {amount(A3)}\")\n",
    "A4 = [1, 3, 4, 5, 12, 10, 7, 8, 15, 20]\n",
    "print(f\"The cardinality of B(A4): {amount(A4)}\")"
   ]
  },
  {
   "cell_type": "code",
   "execution_count": 20,
   "id": "abfa6328-8fb3-4463-ae4d-3e12cbf04a0b",
   "metadata": {},
   "outputs": [],
   "source": [
    "# task 4\n",
    "def condition(tpl):\n",
    "    \"\"\"Checks whether the condition holds.\n",
    "    Condition: a number doesn't have a pair of same adjacent digits.\n",
    "\n",
    "    Args:\n",
    "        tpl (tuple): Represents a number.\n",
    "\n",
    "    Returns:\n",
    "        res (bool): True if the condition holds, False otherwise.\n",
    "    \"\"\"\n",
    "    for i in range(len(tpl) - 1):\n",
    "        if tpl[i] == tpl[i+1]:\n",
    "            return False\n",
    "    return True\n",
    "\n",
    "def amount():\n",
    "    candidates = list(product(range(1, 10), range(10), range(10), range(10), range(10), range(10)))\n",
    "    count = 0\n",
    "    for el in candidates:\n",
    "        if condition(el):\n",
    "            count += 1\n",
    "    return count   "
   ]
  },
  {
   "cell_type": "code",
   "execution_count": 21,
   "id": "cf54cdfb-2208-4c16-8772-564588106e5d",
   "metadata": {},
   "outputs": [
    {
     "data": {
      "text/plain": [
       "531441"
      ]
     },
     "execution_count": 21,
     "metadata": {},
     "output_type": "execute_result"
    }
   ],
   "source": [
    "amount()"
   ]
  }
 ],
 "metadata": {
  "kernelspec": {
   "display_name": "Python 3 (ipykernel)",
   "language": "python",
   "name": "python3"
  },
  "language_info": {
   "codemirror_mode": {
    "name": "ipython",
    "version": 3
   },
   "file_extension": ".py",
   "mimetype": "text/x-python",
   "name": "python",
   "nbconvert_exporter": "python",
   "pygments_lexer": "ipython3",
   "version": "3.11.10"
  }
 },
 "nbformat": 4,
 "nbformat_minor": 5
}
