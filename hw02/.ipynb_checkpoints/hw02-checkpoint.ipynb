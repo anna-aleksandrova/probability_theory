{
 "cells": [
  {
   "cell_type": "markdown",
   "metadata": {},
   "source": [
    "# Домашня робота №2"
   ]
  },
  {
   "cell_type": "code",
   "execution_count": 98,
   "metadata": {},
   "outputs": [],
   "source": [
    "import numpy as np\n",
    "from itertools import product"
   ]
  },
  {
   "cell_type": "markdown",
   "metadata": {},
   "source": [
    "## 1 Пароль\n",
    "Напишіть програму (функцію) для генерування випадкового пароля з такими обмеженнями:\n",
    "- пароль складається з рівно $10$ символів\n",
    "- пароль містить хоча б одну маленьку латинську літеру [a-z]\n",
    "- пароль містить хоча б одну велику латинську літеру [A-Z]\n",
    "- пароль містить хоча б одну цифру [0-9]\n",
    "- пароль містить хоча б один спеціальний символ [~!@#$%^&*()-_+=\\/{}[].,?<>:;]"
   ]
  },
  {
   "cell_type": "code",
   "execution_count": 34,
   "metadata": {},
   "outputs": [
    {
     "name": "stdout",
     "output_type": "stream",
     "text": [
      "&Xn09VO<T$\n"
     ]
    }
   ],
   "source": [
    "s = \"[~!@#$%^&*()-_+=/{}[].,?<>:;]\"\n",
    "lowercase = chr(np.random.randint(97, 123))\n",
    "uppercase = chr(np.random.randint(65, 91))\n",
    "digit = np.random.randint(0, 10)\n",
    "special = s[np.random.randint(0, len(s))]\n",
    "obligatory = [lowercase, uppercase, str(digit), special]\n",
    "\n",
    "alphabet = [chr(el) for el in range(97, 123)] + [chr(el) for el in range(65, 91)] + [str(el) for el in range(10)] + [str(el) for el in s]\n",
    "res = list(np.random.choice(alphabet, size=6, replace=True))\n",
    "res += obligatory\n",
    "np.random.shuffle(res)\n",
    "print(\"\".join(res))"
   ]
  },
  {
   "cell_type": "markdown",
   "metadata": {},
   "source": [
    "## 2 Герби в ряд\n",
    "Реалізуйте функцію для обчислення емпіричної та теоретичної імовірностей випадіння $k$ гербів (HEADS) підряд у серії з $n$ підкидань чесної монетки. Підрахуйте відповідні ймовірності для таких параметрів:\n",
    "- $k = 2, n = 10, 50, 100, 500, 1000, 5000, 10000$\n",
    "- $k = 3, n = 10, 50, 100, 500, 1000, 5000, 10000$\n",
    "\n",
    "**Зауваження.** Нехай $k = 2, n = 10$ та маємо таку послідовність результатів підкидання монети: $\\{ H, T, H, H, H, H, T, T, H, T \\}$. Тоді матимемо $3$ випадки випадіння двох гербів підряд та емпіричну ймовірність такої події $1/3$."
   ]
  },
  {
   "cell_type": "code",
   "execution_count": 144,
   "metadata": {},
   "outputs": [
    {
     "data": {
      "text/plain": [
       "1.0"
      ]
     },
     "execution_count": 144,
     "metadata": {},
     "output_type": "execute_result"
    }
   ],
   "source": [
    "# def empirical(k: int, tosses: list):\n",
    "#     omega_power = len(tosses) - k + 1\n",
    "#     fav = 0\n",
    "#     needed = [\"H\" for _ in range(k)]\n",
    "#     for i in range(omega_power):\n",
    "#         if tosses[i:i+k] == needed:\n",
    "#             fav += 1\n",
    "#     return fav / omega_power\n",
    "\n",
    "def empirical(simulations: int, n: int, k: int):\n",
    "    fav_power = 0\n",
    "    needed = [\"H\" for _ in range(k)]\n",
    "    for _ in range(simulations):\n",
    "        tosses = list(np.random.choice([\"H\", \"T\"], size=n, replace=True))\n",
    "        for i in range(n - k + 1):\n",
    "            if tosses[i:i+k] == needed:\n",
    "                fav_power += 1\n",
    "                break\n",
    "    return fav_power / simulations\n",
    "        \n",
    "\n",
    "# def theoretical(n: int, k: int):\n",
    "#     pass\n",
    "    \n",
    "\n",
    "empirical(10000, 10000, 2)"
   ]
  },
  {
   "cell_type": "markdown",
   "metadata": {},
   "source": [
    "## 3 Найбільше число\n",
    "Реалізуйте функцію підрахунку точної (теоретичної) імовірності того, що максимальне число після $n$ кидків звичайного грального кубика дорівнює $x\\_max$, для таких параметрів:\n",
    "- $n = 3, x\\_max = 6$\n",
    "- $n = 2, x\\_max = 3$\n",
    "- $n = 3, x\\_max = 5$\n",
    "\n",
    "Тобто, якщо $X_i, i = 1, \\ldots, n$, - число на $i$-му кидку кубика, а $X = \\max\\limits_{1 \\leq i \\leq n} X_i$, то потрібно знайти ймовірність $\\textbf{P} \\left( X = x\\_max \\right)$.\n",
    "\n",
    "Підрахуйте також емпіричні ймовірності відповідних подій у випадку $10000$ симуляцій.\n",
    "\n",
    "**Зауваження.** Якщо введені параметри не мають сенсу, то повертати $0$.\n",
    "Тобто, якщо вводиться $x\\_max < 1$ або $x\\_max > 6$."
   ]
  },
  {
   "cell_type": "code",
   "execution_count": 106,
   "metadata": {},
   "outputs": [
    {
     "name": "stdout",
     "output_type": "stream",
     "text": [
      "=========================\n",
      "Theoretical probability that after 3 rolls of the dice the maximum number == 6: 0.4212962962962963\n",
      "Empirical probability that after 3 rolls of the dice the maximum number == 6: 0.4207\n",
      "=========================\n",
      "Theoretical probability that after 2 rolls of the dice the maximum number == 3: 0.1388888888888889\n",
      "Empirical probability that after 2 rolls of the dice the maximum number == 3: 0.1381\n",
      "=========================\n",
      "Theoretical probability that after 3 rolls of the dice the maximum number == 5: 0.2824074074074074\n",
      "Empirical probability that after 3 rolls of the dice the maximum number == 5: 0.28\n"
     ]
    }
   ],
   "source": [
    "def theoretical(n: int, x_max: int):\n",
    "    if x_max < 1 or x_max > 6 or n < 0:\n",
    "        return 0\n",
    "    fav_power = x_max ** n - (x_max - 1) ** n\n",
    "    omega_power = 6 ** n\n",
    "    return fav_power / omega_power\n",
    "\n",
    "def empirical(simulations: int, n: int, x_max: int):\n",
    "    if x_max < 1 or x_max > 6 or n < 0:\n",
    "        return 0\n",
    "    fav_power = 0\n",
    "    for i in range(simulations):\n",
    "        exp_res = np.random.choice(range(1, 7), size = n, replace=True)\n",
    "        if exp_res.max() == x_max:\n",
    "            fav_power += 1\n",
    "    return fav_power / simulations\n",
    "\n",
    "simulations = 10000\n",
    "cases = [\n",
    "    [3, 6],\n",
    "    [2, 3],\n",
    "    [3, 5]\n",
    "]\n",
    "\n",
    "for pair in cases:\n",
    "    print(\"=\" * 25)\n",
    "    print(f\"Theoretical probability that after {pair[0]} rolls of the dice the maximum number == {pair[1]}: {theoretical(pair[0], pair[1])}\")\n",
    "    print(f\"Empirical probability that after {pair[0]} rolls of the dice the maximum number == {pair[1]}: {empirical(simulations, pair[0], pair[1])}\")"
   ]
  },
  {
   "cell_type": "markdown",
   "metadata": {},
   "source": [
    "## 4 Сума чисел\n",
    "Реалізуйте функцію підрахунку точної (теоретичної) імовірності того, що сума чисел після $n$ кидків звичайного грального кубика дорівнює $s$, для таких параметрів:\n",
    "- $n = 3, s = 13$\n",
    "- $n = 2, s = 5$\n",
    "- $n = 3, s = 7$\n",
    "\n",
    "Тобто, якщо $X_i, i = 1, \\ldots, n$, - число на $i$-му кидку кубика, а $X = \\sum\\limits_{i = 1}^{n} X_i$, то потрібно знайти ймовірність $\\textbf{P} \\left( X = s \\right)$.\n",
    "\n",
    "Підрахуйте також емпіричні ймовірності відповідних подій у випадку $10000$ симуляцій.\n",
    "\n",
    "**Зауваження.** Якщо введені параметри не мають сенсу, то повертати $0$.\n",
    "Наприклад, якщо при $n = 3$ вводиться $s < 3$ або $s > 18$."
   ]
  },
  {
   "cell_type": "code",
   "execution_count": 108,
   "metadata": {},
   "outputs": [
    {
     "name": "stdout",
     "output_type": "stream",
     "text": [
      "=========================\n",
      "Theoretical probability that after 3 rolls of the dice the sum of all numbers == 13: 0.09722222222222222\n",
      "Empirical probability that after 3 rolls of the dice the sum of all numbers == 13: 0.0977\n",
      "=========================\n",
      "Theoretical probability that after 2 rolls of the dice the sum of all numbers == 5: 0.1111111111111111\n",
      "Empirical probability that after 2 rolls of the dice the sum of all numbers == 5: 0.1122\n",
      "=========================\n",
      "Theoretical probability that after 3 rolls of the dice the sum of all numbers == 7: 0.06944444444444445\n",
      "Empirical probability that after 3 rolls of the dice the sum of all numbers == 7: 0.0754\n"
     ]
    }
   ],
   "source": [
    "def theoretical(n: int, s: int):\n",
    "    if s < n or s > 6 * n or n < 0:\n",
    "        return 0\n",
    "    omega_power = 6 ** n\n",
    "    fav_power = 0\n",
    "    for event in product(range(1, 7), repeat=n):\n",
    "        if sum(event) == s:\n",
    "            fav_power += 1\n",
    "    return fav_power / omega_power\n",
    "\n",
    "def empirical(simulations: int, n:int, s:int):\n",
    "    if s < n or s > 6 * n or n < 0:\n",
    "        return 0\n",
    "    fav_power = 0\n",
    "    for i in range(simulations):\n",
    "        exp_res = np.random.choice(range(1, 7), size=n, replace=True)\n",
    "        if sum(exp_res) == s:\n",
    "            fav_power += 1\n",
    "    return fav_power / simulations    \n",
    "\n",
    "simulations = 10000\n",
    "cases = [\n",
    "    [3, 13],\n",
    "    [2, 5],\n",
    "    [3, 7]\n",
    "]\n",
    "\n",
    "for pair in cases:\n",
    "    print(\"=\" * 25)\n",
    "    print(f\"Theoretical probability that after {pair[0]} rolls of the dice the sum of all numbers == {pair[1]}: {theoretical(pair[0], pair[1])}\")\n",
    "    print(f\"Empirical probability that after {pair[0]} rolls of the dice the sum of all numbers == {pair[1]}: {empirical(simulations, pair[0], pair[1])}\")"
   ]
  }
 ],
 "metadata": {
  "kernelspec": {
   "display_name": "Python 3 (ipykernel)",
   "language": "python",
   "name": "python3"
  },
  "language_info": {
   "codemirror_mode": {
    "name": "ipython",
    "version": 3
   },
   "file_extension": ".py",
   "mimetype": "text/x-python",
   "name": "python",
   "nbconvert_exporter": "python",
   "pygments_lexer": "ipython3",
   "version": "3.12.5"
  }
 },
 "nbformat": 4,
 "nbformat_minor": 4
}
